{
 "cells": [
  {
   "cell_type": "markdown",
   "metadata": {},
   "source": [
    "#### This Notebook demostrates LlamaIndex's capabilities to work with SQL Databases. \n",
    "We will use a MySQL table to perform a number of queries. \n",
    "- Create the SQL connection and craete an engine object to connect to the MySQL DB (DB Name: demo_db, table name: walmart). \n",
    "- An SQL Database object is also created.\n",
    "- We will refer to the walmart table which contains weekly sales volumes and a host of other parameters - CPI, Fuel price, Temparature, holiday or not, etc. \n",
    "- We will use three mechanisms to perform queries on the table. \n",
    "- <b>Part 1: Use the NLSQLQueryEngine that converts a natural language query into the corresponding SQL query and fetches the result</b>\n",
    "- <b>Part 2: Use the SQLTableRetrieverQueryEngine to perform the same operation. This method also uses an intermediate VectorStore</b>\n",
    "- <b>Part 3: Use the NLSQLRetriever and plug in the retrieved documents (k=n mentioned) into RetreiverQueryEngine to articulate the final outcome</b>\n"
   ]
  },
  {
   "cell_type": "code",
   "execution_count": 1,
   "metadata": {},
   "outputs": [],
   "source": [
    "# Install the following Libraries if they are not already installed in your environment.\n",
    "\n",
    "# !pipenv install llama-index pymysql -q\n",
    "# !pipenv install ipython\n",
    "# !pipenv install llama-index-embeddings-openai"
   ]
  },
  {
   "cell_type": "code",
   "execution_count": 1,
   "metadata": {},
   "outputs": [],
   "source": [
    "# SQLAlchemy is the Python SQL toolkit and Object Relational Mapper that gives \n",
    "# application developers the full power and flexibility of working with SQL databases and tables.\n",
    "\n",
    "from sqlalchemy import (\n",
    "    create_engine,\n",
    "    text, \n",
    ")\n",
    "from llama_index.core import SQLDatabase\n",
    "from llama_index.llms.openai import OpenAI"
   ]
  },
  {
   "cell_type": "code",
   "execution_count": 2,
   "metadata": {},
   "outputs": [],
   "source": [
    "# Set up the connection string \n",
    "\n",
    "db_user = \"root\"\n",
    "db_password = \"#####\"\n",
    "db_host = \"localhost:3306\"\n",
    "db_name = \"demo_db\" #sampleDB\n",
    "\n",
    "connection_string = f\"mysql+pymysql://{db_user}:{db_password}@{db_host}/{db_name}\""
   ]
  },
  {
   "cell_type": "code",
   "execution_count": 3,
   "metadata": {},
   "outputs": [
    {
     "name": "stdout",
     "output_type": "stream",
     "text": [
      "Printing three rows:\n",
      "(1, datetime.date(2005, 2, 10), 1643690.0, 0, 42.31, 2.572, 211.096, 8.106)\n",
      "(1, datetime.date(2012, 2, 10), 1641960.0, 1, 38.51, 2.548, 211.242, 8.106)\n",
      "(1, datetime.date(2019, 2, 10), 1611970.0, 0, 39.93, 2.514, 211.289, 8.106)\n",
      "Printing Table structure:\n",
      "('Store', 'int', 'NO', '', None, '')\n",
      "('Date', 'date', 'NO', '', None, '')\n",
      "('Weekly_Sales', 'float', 'YES', '', None, '')\n",
      "('Holiday_Flag', 'tinyint', 'YES', '', None, '')\n",
      "('Temperature', 'float', 'YES', '', None, '')\n",
      "('Fuel_Price', 'float', 'YES', '', None, '')\n",
      "('CPI', 'float', 'YES', '', None, '')\n",
      "('Unemployment', 'float', 'YES', '', None, '')\n"
     ]
    }
   ],
   "source": [
    "# Create an engine instance - The Engine is a factory in SQL Alchemy that can create new database connections\n",
    "engine = create_engine(connection_string)\n",
    "\n",
    "# Test the connection using raw SQL\n",
    "print(\"Printing three rows:\")\n",
    "with engine.connect() as connection:\n",
    "    result = connection.execute(text(\"select * from walmart limit 3\"))\n",
    "    for row in result:\n",
    "        print(row)\n",
    "        \n",
    "print(\"Printing Table structure:\")\n",
    "with engine.connect() as connection:\n",
    "    result = connection.execute(text(\"describe walmart\"))\n",
    "    for row in result:\n",
    "        print(row)        "
   ]
  },
  {
   "cell_type": "code",
   "execution_count": 4,
   "metadata": {},
   "outputs": [],
   "source": [
    "llm = OpenAI(temperature=0.1, model=\"gpt-3.5-turbo\")"
   ]
  },
  {
   "cell_type": "code",
   "execution_count": 5,
   "metadata": {},
   "outputs": [],
   "source": [
    "# here we define our SQLDatabase abstraction (a light wrapper around SQLAlchemy)\n",
    "sql_database = SQLDatabase(engine, include_tables=[\"walmart\"])"
   ]
  },
  {
   "cell_type": "markdown",
   "metadata": {},
   "source": [
    "#### Part 1: Text-to-SQL Query Engine\n",
    "Once we have constructed our SQL database, we can use the NLSQLTableQueryEngine to construct natural language queries that are synthesized into SQL queries.\n",
    "Note that we need to specify the tables we want to use with this query engine. If we don't the query engine will pull all the schema context, \n",
    "which could overflow the context window of the LLM."
   ]
  },
  {
   "cell_type": "code",
   "execution_count": 6,
   "metadata": {},
   "outputs": [
    {
     "name": "stdout",
     "output_type": "stream",
     "text": [
      "There are 45 unique stores in the dataset.\n"
     ]
    }
   ],
   "source": [
    "from llama_index.core.query_engine import NLSQLTableQueryEngine\n",
    "\n",
    "query_engine = NLSQLTableQueryEngine(\n",
    "    sql_database=sql_database, tables=[\"walmart\"], llm=llm\n",
    ")\n",
    "query_str = \"How many unique stores are there?\"\n",
    "#query_str = \"What is the average CPI of each Store? Order the results by Store number.\"\n",
    "response = query_engine.query(query_str)\n",
    "\n",
    "print(response)"
   ]
  },
  {
   "cell_type": "markdown",
   "metadata": {},
   "source": [
    "#### Part 2: Query-Time Retrieval of Tables for Text-to-SQL\n",
    "If we don't know ahead of time which table we would like to use, and the total size of the table schema overflows your context window size, \n",
    "we should store the table schema in an index so that during query time we can retrieve the right schema.\n",
    "The way we can do this is using the SQLTableNodeMapping object, which takes in a SQLDatabase and produces a Node object \n",
    "for each SQLTableSchema object passed into the ObjectIndex constructor."
   ]
  },
  {
   "cell_type": "code",
   "execution_count": 7,
   "metadata": {},
   "outputs": [],
   "source": [
    "from llama_index.core.indices.struct_store.sql_query import (\n",
    "    SQLTableRetrieverQueryEngine,\n",
    ")\n",
    "from llama_index.core.objects import (\n",
    "    SQLTableNodeMapping,\n",
    "    ObjectIndex,\n",
    "    SQLTableSchema,\n",
    ")\n",
    "from llama_index.core import VectorStoreIndex"
   ]
  },
  {
   "cell_type": "code",
   "execution_count": 8,
   "metadata": {},
   "outputs": [],
   "source": [
    "table_node_mapping = SQLTableNodeMapping(sql_database)\n",
    "table_schema_objs = [\n",
    "    (SQLTableSchema(table_name=\"walmart\"))\n",
    "]  # add a SQLTableSchema for our table, you may add more tables here\n",
    "\n",
    "# The ObjectIndex class allows for the indexing of arbitrary Python objects including SQL database schema objects. \n",
    "obj_index = ObjectIndex.from_objects(\n",
    "    table_schema_objs, \n",
    "    table_node_mapping,\n",
    "   index_cls=VectorStoreIndex,\n",
    ")\n",
    "query_engine = SQLTableRetrieverQueryEngine(\n",
    "    sql_database, obj_index.as_retriever(similarity_top_k=3)\n",
    ")"
   ]
  },
  {
   "cell_type": "code",
   "execution_count": 9,
   "metadata": {},
   "outputs": [
    {
     "name": "stdout",
     "output_type": "stream",
     "text": [
      "The average CPI for each store, ordered by store number, is as follows:\n",
      "Store 1: 215.9969\n",
      "Store 2: 215.6463\n",
      "Store 3: 219.3915\n",
      "Store 4: 128.6797\n",
      "Store 5: 216.5656\n",
      "Store 6: 217.5532\n",
      "Store 7: 193.6642\n",
      "Store 8: 219.4390\n",
      "Store 9: 219.6267\n",
      "Store 10: 128.6797\n",
      "Store 11: 219.3915\n",
      "Store 12: 128.6797\n",
      "Store 13: 128.6797\n",
      "Store 14: 186.2857\n",
      "Store 15: 135.0926\n",
      "Store 16: 193.6642\n",
      "Store 17: 128.6797\n",
      "Store 18: 135.0926\n",
      "Store 19: 135.0926\n",
      "Store 20: 209.0381\n",
      "Store 21: 215.6463\n",
      "Store 22: 139.0113\n",
      "Store 23: 135.0926\n",
      "Store 24: 135.0926\n",
      "Store 25: 209.0381\n",
      "Store 26: 135.0926\n",
      "Store 27: 139.0113\n",
      "Store 28: 128.6797\n",
      "Store 29: 135.0926\n",
      "Store 30: 215.6463\n",
      "Store 31: 215.6463\n",
      "Store 32: 193.6642\n",
      "Store 33: 128.6797\n",
      "Store 34: 128.6797\n",
      "Store 35: 139.0113\n",
      "Store 36: 214.7291\n",
      "Store 37: 214.7291\n",
      "Store 38: 128.6797\n",
      "Store 39: 214.7291\n",
      "Store 40: 135.0926\n",
      "Store 41: 193.6642\n",
      "Store 42: 128.6797\n",
      "Store 43: 207.7352\n",
      "Store 44: 128.6797\n",
      "Store 45: 186.2857\n"
     ]
    }
   ],
   "source": [
    "query_str = \"What is the average CPI of each Store? Order the results by Store number.\"\n",
    "response = query_engine.query(query_str)\n",
    "\n",
    "print(response)"
   ]
  },
  {
   "cell_type": "markdown",
   "metadata": {},
   "source": [
    "#### Part 3: Text-to-SQL Retriever\n",
    "So far our text-to-SQL capability is packaged in a query engine and consists of both retrieval and synthesis.\n",
    "You can use the SQL retriever on its own. "
   ]
  },
  {
   "cell_type": "code",
   "execution_count": 10,
   "metadata": {},
   "outputs": [],
   "source": [
    "from llama_index.core.retrievers import NLSQLRetriever"
   ]
  },
  {
   "cell_type": "code",
   "execution_count": 11,
   "metadata": {},
   "outputs": [],
   "source": [
    "# default retrieval (return_raw=True)\n",
    "nl_sql_retriever = NLSQLRetriever(\n",
    "    sql_database, tables=[\"walmart\"], return_raw=True\n",
    ")"
   ]
  },
  {
   "cell_type": "markdown",
   "metadata": {},
   "source": [
    "\n",
    "### Plug into our RetrieverQueryEngine\n",
    "We compose our SQL Retriever with our standard RetrieverQueryEngine to synthesize a response. The result is roughly similar to our packaged Text-to-SQL query engines.\n"
   ]
  },
  {
   "cell_type": "code",
   "execution_count": 12,
   "metadata": {},
   "outputs": [],
   "source": [
    "from llama_index.core.query_engine import RetrieverQueryEngine\n",
    "\n",
    "query_engine = RetrieverQueryEngine.from_args(nl_sql_retriever)\n",
    "\n",
    "response = query_engine.query(\n",
    "    \"What is the average CPI of each Store? Order the results by Store number.\"\n",
    ")"
   ]
  },
  {
   "cell_type": "code",
   "execution_count": 14,
   "metadata": {},
   "outputs": [
    {
     "name": "stdout",
     "output_type": "stream",
     "text": [
      "The average CPI of each Store, ordered by Store number, is as follows:\n",
      "- Store 1: 215.99689190204327\n",
      "- Store 2: 215.64631087296493\n",
      "- Store 3: 219.39153167084382\n",
      "- Store 4: 128.67966946688566\n",
      "- Store 5: 216.5655815284569\n",
      "- Store 6: 217.55319704709353\n",
      "- Store 7: 193.66424336466756\n",
      "- Store 8: 219.43902641243034\n",
      "- Store 9: 219.62668945739318\n",
      "- Store 10: 128.67966946688566\n",
      "- Store 11: 219.39153167084382\n",
      "- Store 12: 128.67966946688566\n",
      "- Store 13: 128.67966946688566\n",
      "- Store 14: 186.28567824997268\n",
      "- Store 15: 135.09260761821187\n",
      "- Store 16: 193.66424336466756\n",
      "- Store 17: 128.67966946688566\n",
      "- Store 18: 135.09260761821187\n",
      "- Store 19: 135.09260761821187\n",
      "- Store 20: 209.03813075352383\n",
      "- Store 21: 215.64631087296493\n",
      "- Store 22: 139.0112838211593\n",
      "- Store 23: 135.09260761821187\n",
      "- Store 24: 135.09260761821187\n",
      "- Store 25: 209.03813075352383\n",
      "- Store 26: 135.09260761821187\n",
      "- Store 27: 139.0112838211593\n",
      "- Store 28: 128.67966946688566\n",
      "- Store 29: 135.09260761821187\n",
      "- Store 30: 215.64631087296493\n",
      "- Store 31: 215.64631087296493\n",
      "- Store 32: 193.66424336466756\n",
      "- Store 33: 128.67966946688566\n",
      "- Store 34: 128.67966946688566\n",
      "- Store 35: 139.0112838211593\n",
      "- Store 36: 214.72906878277973\n",
      "- Store 37: 214.72906878277973\n",
      "- Store 38: 128.67966946688566\n",
      "- Store 39: 214.72906878277973\n",
      "- Store 40: 135.09260761821187\n",
      "- Store 41: 193.66424336466756\n",
      "- Store 42: 128.67966946688566\n",
      "- Store 43: 207.73516280167587\n",
      "- Store 44: 128.67966946688566\n",
      "- Store 45: 186.28567824997268\n"
     ]
    }
   ],
   "source": [
    "print(str(response))"
   ]
  },
  {
   "cell_type": "code",
   "execution_count": null,
   "metadata": {},
   "outputs": [],
   "source": []
  },
  {
   "cell_type": "code",
   "execution_count": null,
   "metadata": {},
   "outputs": [],
   "source": []
  }
 ],
 "metadata": {
  "kernelspec": {
   "display_name": "Demo-Folder-s2cjiHJX",
   "language": "python",
   "name": "python3"
  },
  "language_info": {
   "codemirror_mode": {
    "name": "ipython",
    "version": 3
   },
   "file_extension": ".py",
   "mimetype": "text/x-python",
   "name": "python",
   "nbconvert_exporter": "python",
   "pygments_lexer": "ipython3",
   "version": "3.9.12"
  }
 },
 "nbformat": 4,
 "nbformat_minor": 2
}
