{
 "cells": [
  {
   "cell_type": "markdown",
   "metadata": {},
   "source": [
    "## Simple ReAct Agent for Calculator\n",
    "The following code builds a Calculator.\n",
    "Tools are defined for each calculation function.\n",
    "Prompts provide a natural language question.\n",
    "A ReAct agent runs stepwise to generate the right outcome by using the right tools. "
   ]
  },
  {
   "cell_type": "code",
   "execution_count": 13,
   "metadata": {},
   "outputs": [],
   "source": [
    "from llama_index.core.agent import ReActAgent\n",
    "from llama_index.llms.openai import OpenAI\n",
    "from llama_index.core.tools import FunctionTool"
   ]
  },
  {
   "cell_type": "code",
   "execution_count": 11,
   "metadata": {},
   "outputs": [],
   "source": [
    "def add(a: float, b: float) -> float:\n",
    "  \"\"\"Add two numbers and returns the result\"\"\"\n",
    "  return a + b\n",
    "add_tool = FunctionTool.from_defaults(fn=add)\n",
    "\n",
    "def multiply(a: float, b: float) -> float:\n",
    "  \"\"\"Multiply two numbers and returns the result\"\"\"\n",
    "  return a * b\n",
    "multiply_tool = FunctionTool.from_defaults(fn=multiply)\n",
    "\n",
    "def subtract(a: float, b: float) -> float:\n",
    "  \"\"\"Subtract two numbers and returns the result\"\"\"\n",
    "  return a - b\n",
    "subtract_tool = FunctionTool.from_defaults(fn=subtract)\n",
    "\n",
    "def divide(a: float, b: float) -> float:\n",
    "  \"\"\"Divide two numbers and returns the result. Handles division by zero error\"\"\"\n",
    "  if b == 0:\n",
    "    raise ZeroDivisionError(\"Division by zero is not allowed\")\n",
    "  return a / b\n",
    "divide_tool = FunctionTool.from_defaults(fn=divide)\n",
    "\n",
    "# Scientific functions\n",
    "def power(a: float, b: float) -> float:\n",
    "  \"\"\"Raise a number to a power and returns the result\"\"\"\n",
    "  return a ** b\n",
    "power_tool = FunctionTool.from_defaults(fn=power)\n",
    "\n",
    "def factorial(n: int) -> int:\n",
    "  \"\"\"Calculate the factorial of a non-negative integer and returns the result\"\"\"\n",
    "  if n < 0:\n",
    "    raise ValueError(\"Factorial is not defined for negative numbers\")\n",
    "  if n == 0:\n",
    "    return 1\n",
    "  else:\n",
    "    return n * factorial(n-1)\n",
    "factorial_tool = FunctionTool.from_defaults(fn=factorial)\n",
    "\n",
    "def sine(x: float) -> float:\n",
    "  \"\"\"Calculate the sine of an angle in radians and returns the result. Uses the math library\"\"\"\n",
    "  import math\n",
    "  return math.sin(x)\n",
    "sine_tool = FunctionTool.from_defaults(fn=sine)\n",
    "\n",
    "def cosine(x: float) -> float:\n",
    "  \"\"\"Calculate the cosine of an angle in radians and returns the result. Uses the math library\"\"\"\n",
    "  import math\n",
    "  return math.cos(x)\n",
    "cosine_tool = FunctionTool.from_defaults(fn=cosine)\n",
    "\n",
    "def tangent(x: float) -> float:\n",
    "  \"\"\"Calculate the tangent of an angle in radians and returns the result. Handles division by zero error\"\"\"\n",
    "  if cosine(x) == 0:\n",
    "    raise ZeroDivisionError(\"Tangent is not defined for angles where cosine is zero\")\n",
    "  return sine(x) / cosine(x)\n",
    "tangent_tool = FunctionTool.from_defaults(fn=tangent)"
   ]
  },
  {
   "cell_type": "code",
   "execution_count": 12,
   "metadata": {},
   "outputs": [],
   "source": [
    "# list of tools\n",
    "\n",
    "tools = [multiply_tool, add_tool, subtract_tool, divide_tool, power_tool, factorial_tool, sine_tool, cosine_tool, tangent_tool]"
   ]
  },
  {
   "cell_type": "code",
   "execution_count": 4,
   "metadata": {},
   "outputs": [],
   "source": [
    "llm = OpenAI(model=\"gpt-3.5-turbo\")\n",
    "agent = ReActAgent.from_tools(tools, llm=llm, verbose=True)"
   ]
  },
  {
   "cell_type": "code",
   "execution_count": 6,
   "metadata": {},
   "outputs": [
    {
     "name": "stdout",
     "output_type": "stream",
     "text": [
      "\u001b[1;3;38;5;200mThought: The user is asking for a step-by-step calculation of an arithmetic expression.\n",
      "Action: add\n",
      "Action Input: {}\n",
      "\u001b[0m\u001b[1;3;34mObservation: Error: add() missing 2 required positional arguments: 'a' and 'b'\n",
      "\u001b[0m\u001b[1;3;38;5;200mThought: I need to break down the expression into smaller steps to calculate it.\n",
      "Action: multiply\n",
      "Action Input: {'a': 2, 'b': 4}\n",
      "\u001b[0m\u001b[1;3;34mObservation: 8\n",
      "\u001b[0m\u001b[1;3;38;5;200mThought: I have the result of the multiplication step. Now, I can proceed with the addition.\n",
      "Action: add\n",
      "Action Input: {'a': 20, 'b': 8}\n",
      "\u001b[0m\u001b[1;3;34mObservation: 28\n",
      "\u001b[0m\u001b[1;3;38;5;200mThought: I can answer without using any more tools. I'll use the user's language to answer\n",
      "Answer: The result of 20 + (2 * 4) is 28.\n",
      "\u001b[0m"
     ]
    }
   ],
   "source": [
    "response = agent.chat(\"What is 20+(2*4)? Calculate step by step \")"
   ]
  },
  {
   "cell_type": "code",
   "execution_count": 25,
   "metadata": {},
   "outputs": [
    {
     "name": "stdout",
     "output_type": "stream",
     "text": [
      "\u001b[1;3;38;5;200mThought: The current language of the user is: English. I need to use tools to help me answer the question.\n",
      "Action: cosine\n",
      "Action Input: {'x': 30}\n",
      "\u001b[0m\u001b[1;3;34mObservation: 0.15425144988758405\n",
      "\u001b[0m\u001b[1;3;38;5;200mThought: I still need to calculate the tangent of 45 degrees.\n",
      "Action: tangent\n",
      "Action Input: {'x': 45}\n",
      "\u001b[0m\u001b[1;3;34mObservation: 1.6197751905438615\n",
      "\u001b[0m\u001b[1;3;38;5;200mThought: I have the values for cos(30) and tan(45). Now I can add them together to get the final result.\n",
      "Action: add\n",
      "Action Input: {'a': 0.15425144988758405, 'b': 1.6197751905438615}\n",
      "\u001b[0m\u001b[1;3;34mObservation: 1.7740266404314455\n",
      "\u001b[0m\u001b[1;3;38;5;200mThought: I can answer without using any more tools. I'll use the user's language to answer\n",
      "Answer: The result of cos(30) + tan(45) is approximately 1.774.\n",
      "\u001b[0m"
     ]
    }
   ],
   "source": [
    "response = agent.query(\"Calculate cos(30) + tan(45)\")"
   ]
  },
  {
   "cell_type": "code",
   "execution_count": null,
   "metadata": {},
   "outputs": [],
   "source": []
  },
  {
   "cell_type": "code",
   "execution_count": null,
   "metadata": {},
   "outputs": [],
   "source": []
  }
 ],
 "metadata": {
  "kernelspec": {
   "display_name": "Demo-Folder-s2cjiHJX",
   "language": "python",
   "name": "python3"
  },
  "language_info": {
   "codemirror_mode": {
    "name": "ipython",
    "version": 3
   },
   "file_extension": ".py",
   "mimetype": "text/x-python",
   "name": "python",
   "nbconvert_exporter": "python",
   "pygments_lexer": "ipython3",
   "version": "3.9.12"
  }
 },
 "nbformat": 4,
 "nbformat_minor": 2
}
